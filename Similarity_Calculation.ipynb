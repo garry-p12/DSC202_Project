{
 "cells": [
  {
   "cell_type": "markdown",
   "id": "38193003-b01a-4f90-8caa-e09b434f47c7",
   "metadata": {},
   "source": [
    "### Imports"
   ]
  },
  {
   "cell_type": "code",
   "execution_count": 1,
   "id": "29df16f4-7028-4f35-b960-1f48cc20120a",
   "metadata": {},
   "outputs": [
    {
     "name": "stdout",
     "output_type": "stream",
     "text": [
      "Collecting en-core-web-sm==3.8.0\n",
      "  Downloading https://github.com/explosion/spacy-models/releases/download/en_core_web_sm-3.8.0/en_core_web_sm-3.8.0-py3-none-any.whl (12.8 MB)\n",
      "\u001b[2K     \u001b[90m━━━━━━━━━━━━━━━━━━━━━━━━━━━━━━━━━━━━━━━━\u001b[0m \u001b[32m12.8/12.8 MB\u001b[0m \u001b[31m35.2 MB/s\u001b[0m eta \u001b[36m0:00:00\u001b[0m \u001b[36m0:00:01\u001b[0m\n",
      "\u001b[?25h\u001b[38;5;2m✔ Download and installation successful\u001b[0m\n",
      "You can now load the package via spacy.load('en_core_web_sm')\n",
      "\u001b[38;5;3m⚠ Restart to reload dependencies\u001b[0m\n",
      "If you are in a Jupyter or Colab notebook, you may need to restart Python in\n",
      "order to load all the package's dependencies. You can do this by selecting the\n",
      "'Restart kernel' or 'Restart runtime' option.\n"
     ]
    }
   ],
   "source": [
    "import pandas as pd\n",
    "import numpy as np\n",
    "import spacy\n",
    "spacy.cli.download(\"en_core_web_sm\")\n",
    "import re\n",
    "from sentence_transformers import SentenceTransformer"
   ]
  },
  {
   "cell_type": "markdown",
   "id": "2e918abd-d8a3-4e5f-8c75-9fad5471d377",
   "metadata": {},
   "source": [
    "## Processing"
   ]
  },
  {
   "cell_type": "code",
   "execution_count": 3,
   "id": "918ebe86-e5e5-4548-aac7-8299f729501a",
   "metadata": {},
   "outputs": [],
   "source": [
    "#restrict to records that have the same authors\n",
    "# Load SBIR abstracts and patent titles\n",
    "sbir_df = pd.read_csv(\"award_data.csv\",low_memory=False)\n",
    "patent_df = pd.read_csv(\"imported_patents.csv\",low_memory=False)\n",
    "nih_df = pd.read_csv(\"RePORTER_PRJABS_C_FY2023.csv\",low_memory=False)\n",
    "author_df = pd.read_csv(\"final.csv\",low_memory=False)"
   ]
  },
  {
   "cell_type": "code",
   "execution_count": 8,
   "id": "b8eaed56-ee0b-48c1-a7de-3e13124f7bb7",
   "metadata": {},
   "outputs": [],
   "source": [
    "sbir_df_filtered = sbir_df[sbir_df['PI Name'].isin(author_df['person_name'])]"
   ]
  },
  {
   "cell_type": "code",
   "execution_count": 297,
   "id": "fa59b7cd-fcc7-450f-9adf-1747566e6867",
   "metadata": {},
   "outputs": [],
   "source": [
    "patent_df['inventor_list'] = patent_df['inventor'].apply(lambda x: x.replace(\"'\", \"\").replace(\"[\", \"\").replace(\"]\", \"\").split(\", \"))\n",
    "patent_df = patent_df.explode('inventor_list')"
   ]
  },
  {
   "cell_type": "code",
   "execution_count": 305,
   "id": "efc423f3-b2ba-4795-8cfe-0856e6441b40",
   "metadata": {},
   "outputs": [],
   "source": [
    "patent_df_filtered = patent_df[patent_df['inventor_list'].isin(author_df['person_name'])]"
   ]
  },
  {
   "cell_type": "code",
   "execution_count": 309,
   "id": "9767e00f-0fc1-4856-b5a5-91f39bfa9d46",
   "metadata": {},
   "outputs": [
    {
     "name": "stderr",
     "output_type": "stream",
     "text": [
      "/var/folders/xy/fxqbz57d3jv2cs65m5slsrf00000gn/T/ipykernel_41353/3434805734.py:12: SettingWithCopyWarning: \n",
      "A value is trying to be set on a copy of a slice from a DataFrame.\n",
      "Try using .loc[row_indexer,col_indexer] = value instead\n",
      "\n",
      "See the caveats in the documentation: https://pandas.pydata.org/pandas-docs/stable/user_guide/indexing.html#returning-a-view-versus-a-copy\n",
      "  sbir_df_filtered[\"clean_abstract\"] = sbir_df_filtered[\"Abstract\"].astype(str).apply(preprocess_text)\n",
      "/var/folders/xy/fxqbz57d3jv2cs65m5slsrf00000gn/T/ipykernel_41353/3434805734.py:13: SettingWithCopyWarning: \n",
      "A value is trying to be set on a copy of a slice from a DataFrame.\n",
      "Try using .loc[row_indexer,col_indexer] = value instead\n",
      "\n",
      "See the caveats in the documentation: https://pandas.pydata.org/pandas-docs/stable/user_guide/indexing.html#returning-a-view-versus-a-copy\n",
      "  patent_df_filtered[\"clean_title\"] = patent_df_filtered[\"invention_title\"].astype(str).apply(preprocess_text)\n"
     ]
    }
   ],
   "source": [
    "# Load NLP model\n",
    "nlp = spacy.load(\"en_core_web_sm\")\n",
    "\n",
    "def preprocess_text(text):\n",
    "    \"\"\"Lowercase, remove special characters, and lemmatize text.\"\"\"\n",
    "    text = text.lower()\n",
    "    text = re.sub(r\"[^a-zA-Z0-9\\s]\", \"\", text)  # Remove special characters\n",
    "    doc = nlp(text)\n",
    "    return \" \".join([token.lemma_ for token in doc if not token.is_stop])\n",
    "\n",
    "# Apply preprocessing\n",
    "sbir_df_filtered[\"clean_abstract\"] = sbir_df_filtered[\"Abstract\"].astype(str).apply(preprocess_text)\n",
    "patent_df_filtered[\"clean_title\"] = patent_df_filtered[\"invention_title\"].astype(str).apply(preprocess_text)"
   ]
  },
  {
   "cell_type": "markdown",
   "id": "71a2be62-84c5-42a5-8802-39d983cf6a07",
   "metadata": {},
   "source": [
    "## Similarity Calculation"
   ]
  },
  {
   "cell_type": "code",
   "execution_count": 310,
   "id": "2c0242c0-e2da-44ce-bf0e-242bf67f7c1d",
   "metadata": {},
   "outputs": [
    {
     "name": "stdout",
     "output_type": "stream",
     "text": [
      "Pairwise similarity calculations complete!\n"
     ]
    }
   ],
   "source": [
    "import torch\n",
    "from sentence_transformers import SentenceTransformer\n",
    "\n",
    "# Load Sentence-BERT model\n",
    "model = SentenceTransformer('all-MiniLM-L6-v2')\n",
    "\n",
    "# Compute embeddings (shape: [len(df), 384])\n",
    "sbir_embeddings = model.encode(sbir_df_filtered[\"clean_abstract\"].tolist(), convert_to_tensor=True)\n",
    "patent_embeddings = model.encode(patent_df_filtered[\"clean_title\"].tolist(), convert_to_tensor=True)\n",
    "\n",
    "# Normalize embeddings to unit vectors\n",
    "sbir_embeddings = torch.nn.functional.normalize(sbir_embeddings, p=2, dim=1)\n",
    "patent_embeddings = torch.nn.functional.normalize(patent_embeddings, p=2, dim=1)\n",
    "\n",
    "# Compute pairwise cosine similarity\n",
    "sbir_patent_cosine = torch.mm(sbir_embeddings, patent_embeddings.T)  # (100, 100)\n",
    "\n",
    "# Convert to numpy for easier processing\n",
    "# sbir_nih_scores = sbir_nih_cosine.cpu().numpy()\n",
    "sbir_patent_scores = sbir_patent_cosine.cpu().numpy()\n",
    "# patent_nih_scores = patent_nih_cosine.cpu().numpy()\n",
    "\n",
    "print(\"Pairwise similarity calculations complete!\")\n"
   ]
  },
  {
   "cell_type": "code",
   "execution_count": 422,
   "id": "b8659302-83b2-4613-8db4-64e03fc4b2ad",
   "metadata": {},
   "outputs": [
    {
     "name": "stdout",
     "output_type": "stream",
     "text": [
      "Maximum Value: 0.7713935\n",
      "Index of Maximum Value: (3405, 5909)\n"
     ]
    }
   ],
   "source": [
    "sbir_patent_scores = sbir_patent_cosine.cpu().numpy()\n",
    "\n",
    "#get rid of perfect matches, they are errors (both null)\n",
    "filt_df = sbir_patent_scores\n",
    "filt_df[filt_df > 1] = 0\n",
    "# Find the maximum value\n",
    "max_value = np.max(filt_df)\n",
    "\n",
    "# Find the index of the maximum value\n",
    "max_index = np.unravel_index(np.argmax(filt_df), filt_df.shape)\n",
    "\n",
    "print(\"Maximum Value:\", max_value)\n",
    "print(\"Index of Maximum Value:\", max_index)\n"
   ]
  },
  {
   "cell_type": "code",
   "execution_count": 426,
   "id": "1f088144-2a8f-44c4-a387-74bd1ae31757",
   "metadata": {},
   "outputs": [
    {
     "name": "stdout",
     "output_type": "stream",
     "text": [
      "sbir abstract: LM Group Holdings Inc. (LMGH) partnering with Fabrisonic LLC is proposing a program to investigate manufacturing of amorphous metal alloy laminate composites and cladding of metallic surfaces by using ultrasonic additive manufacturing (UAM), a solid-state 3D metal printing technology.nbsp;\n",
      "sbir PI: Evelina Vogli\n",
      "patent title: ['Ultrasonic additive manufacturing of cladded amorphous metal products']\n",
      "patent inventor: ['Evelina Vogli, John Kang, Ricardo Salas, Adam Hehr']\n"
     ]
    }
   ],
   "source": [
    "# Find details of best match\n",
    "\n",
    "print(\"sbir abstract: \"+str(sbir_df_filtered.iloc[max_index[0]]['Abstract']))\n",
    "print(\"sbir PI: \"+str(sbir_df_filtered.iloc[max_index[0]]['PI Name']))\n",
    "print(\"patent title: \"+str(patent_df_filtered.iloc[max_index[1]]['invention_title']))\n",
    "print(\"patent inventor: \"+str(patent_df_filtered.iloc[max_index[1]]['inventor']))"
   ]
  },
  {
   "cell_type": "code",
   "execution_count": 412,
   "id": "d6b60ad2-bf2f-4e31-8bdb-c0e8c81fe2ae",
   "metadata": {},
   "outputs": [
    {
     "name": "stdout",
     "output_type": "stream",
     "text": [
      "['CROSSLIFE TECHNOLOGIES INC.]']\n",
      "['Rapid nucleic acid detection without sample preparation']\n",
      "['HyunDae Cho, Yuanyuan Wu, Jarred Yasuhara-Bell']\n"
     ]
    }
   ],
   "source": [
    "for col in patent_df_filtered.iloc[max_index[1]][['applicant_organization','invention_title','inventor']]:\n",
    "    print(col)"
   ]
  },
  {
   "cell_type": "markdown",
   "id": "d5c7d54c-a5a3-4e9c-9b5d-131739958875",
   "metadata": {},
   "source": [
    "## Plotting"
   ]
  },
  {
   "cell_type": "code",
   "execution_count": 311,
   "id": "e1eb96ea-ba3a-4306-adf1-30df4cb6e30b",
   "metadata": {},
   "outputs": [
    {
     "name": "stderr",
     "output_type": "stream",
     "text": [
      "huggingface/tokenizers: The current process just got forked, after parallelism has already been used. Disabling parallelism to avoid deadlocks...\n",
      "To disable this warning, you can either:\n",
      "\t- Avoid using `tokenizers` before the fork if possible\n",
      "\t- Explicitly set the environment variable TOKENIZERS_PARALLELISM=(true | false)\n"
     ]
    },
    {
     "data": {
      "image/png": "[encoded data removed]",
      "text/plain": [
       "<Figure size 1000x600 with 1 Axes>"
      ]
     },
     "metadata": {},
     "output_type": "display_data"
    }
   ],
   "source": [
    "import seaborn as sns\n",
    "import matplotlib.pyplot as plt\n",
    "\n",
    "# Flatten similarity matrices to 1D arrays\n",
    "# sbir_nih_flat = sbir_nih_scores.flatten()\n",
    "sbir_patent_flat = sbir_patent_scores.flatten()\n",
    "# patent_nih_flat = patent_nih_scores.flatten()\n",
    "\n",
    "# Plot KDE for each similarity matrix\n",
    "plt.figure(figsize=(10, 6))\n",
    "# sns.kdeplot(sbir_nih_flat, label=\"SBIR vs NIH\", fill=True, alpha=0.4)\n",
    "sns.kdeplot(sbir_patent_flat, label=\"SBIR vs Patent\", fill=True, alpha=0.4)\n",
    "# sns.kdeplot(patent_nih_flat, label=\"Patent vs NIH\", fill=True, alpha=0.4)\n",
    "\n",
    "# Customize plot\n",
    "plt.xlabel(\"Cosine Similarity Score\")\n",
    "plt.ylabel(\"Density\")\n",
    "plt.title(\"Kernel Density Estimate (KDE) of Cosine Similarity Scores\")\n",
    "plt.legend()\n",
    "plt.grid()\n",
    "# plt.save_fig()\n",
    "# Show plot\n",
    "plt.show()\n"
   ]
  },
  {
   "cell_type": "code",
   "execution_count": 322,
   "id": "bd77581c-e9e2-4591-b7dc-ca9d6c234437",
   "metadata": {},
   "outputs": [
    {
     "data": {
      "image/png": "[encoded data removed]",
      "text/plain": [
       "<Figure size 1000x600 with 1 Axes>"
      ]
     },
     "metadata": {},
     "output_type": "display_data"
    }
   ],
   "source": [
    "from scipy.stats import gaussian_kde\n",
    "\n",
    "# Flatten similarity matrix to 1D array\n",
    "sbir_patent_flat = sbir_patent_scores.flatten()\n",
    "\n",
    "datasets = {\n",
    "    \"SBIR vs Patent\": sbir_patent_flat,\n",
    "}\n",
    "\n",
    "# Plot KDE\n",
    "plt.figure(figsize=(10, 6))\n",
    "colors = sns.color_palette(\"Set2\", n_colors=len(datasets))  # Get unique colors for each dataset\n",
    "\n",
    "for (label, data), color in zip(datasets.items(), colors):\n",
    "    mean_val = np.mean(data)\n",
    "    std_val = np.std(data)\n",
    "    perc_95 = np.percentile(data, 95)\n",
    "\n",
    "    # KDE plot\n",
    "    sns.kdeplot(data, label=label, fill=True, alpha=0.5, color=color)\n",
    "\n",
    "    # Solid vertical line at mean\n",
    "    plt.axvline(mean_val, color=color, linestyle='-', linewidth=2, label=f\"{label} Mean\")\n",
    "\n",
    "    # Compute KDE for shading standard deviation\n",
    "    kde = gaussian_kde(data)\n",
    "    x_vals = np.linspace(min(data), max(data), 100)\n",
    "    y_vals = kde(x_vals)  # Compute KDE density estimates\n",
    "    max_y = max(y_vals)  # Maximum KDE value for shading\n",
    "\n",
    "    # Shaded region for standard deviation\n",
    "    plt.fill_betweenx(\n",
    "        y=np.linspace(0, max_y, 100),\n",
    "        x1=mean_val - std_val, x2=mean_val + std_val, \n",
    "        color=color, alpha=0.3\n",
    "    )\n",
    "\n",
    "    # Dotted vertical line at 95th percentile\n",
    "    plt.axvline(perc_95, color=color, linestyle='dotted', linewidth=2, label=f\"{label} 95th %ile\")\n",
    "\n",
    "# Customize plot\n",
    "plt.xlabel(\"Cosine Similarity Score\")\n",
    "plt.ylabel(\"Density\")\n",
    "plt.title(\"Kernel Density Estimate (KDE) of Cosine Similarity Scores\")\n",
    "plt.legend()\n",
    "plt.grid()\n",
    "plt.savefig(\"sbir_vs_patent_cosine.png\", format=\"png\", bbox_inches=\"tight\")\n",
    "\n",
    "# Show plot\n",
    "plt.show()\n"
   ]
  },
  {
   "cell_type": "code",
   "execution_count": 324,
   "id": "bf6156b3-b78e-4d6e-ab3d-f2dd2caf4284",
   "metadata": {},
   "outputs": [
    {
     "data": {
      "text/plain": [
       "0.24331830441951752"
      ]
     },
     "execution_count": 324,
     "metadata": {},
     "output_type": "execute_result"
    }
   ],
   "source": [
    "perc_95"
   ]
  },
  {
   "cell_type": "markdown",
   "id": "3d281eab-ec0c-45c3-8a8a-474c9fa804b7",
   "metadata": {},
   "source": [
    "### Put results into dataframe to allow for individual match result checking"
   ]
  },
  {
   "cell_type": "code",
   "execution_count": 445,
   "id": "2d380473-4378-4d57-815c-4ec97856cb33",
   "metadata": {},
   "outputs": [
    {
     "data": {
      "text/html": [
       "<div>\n",
       "<style scoped>\n",
       "    .dataframe tbody tr th:only-of-type {\n",
       "        vertical-align: middle;\n",
       "    }\n",
       "\n",
       "    .dataframe tbody tr th {\n",
       "        vertical-align: top;\n",
       "    }\n",
       "\n",
       "    .dataframe thead th {\n",
       "        text-align: right;\n",
       "    }\n",
       "</style>\n",
       "<table border=\"1\" class=\"dataframe\">\n",
       "  <thead>\n",
       "    <tr style=\"text-align: right;\">\n",
       "      <th></th>\n",
       "      <th>award_id</th>\n",
       "      <th>patent_id</th>\n",
       "      <th>similarity_score</th>\n",
       "    </tr>\n",
       "  </thead>\n",
       "  <tbody>\n",
       "    <tr>\n",
       "      <th>0</th>\n",
       "      <td>24.1 DHS241-001-0020-I</td>\n",
       "      <td>['D0974097']</td>\n",
       "      <td>0.000106</td>\n",
       "    </tr>\n",
       "    <tr>\n",
       "      <th>1</th>\n",
       "      <td>24.1 DHS241-001-0020-I</td>\n",
       "      <td>['11540723']</td>\n",
       "      <td>0.203773</td>\n",
       "    </tr>\n",
       "    <tr>\n",
       "      <th>2</th>\n",
       "      <td>24.1 DHS241-001-0020-I</td>\n",
       "      <td>['11540730']</td>\n",
       "      <td>0.325858</td>\n",
       "    </tr>\n",
       "    <tr>\n",
       "      <th>3</th>\n",
       "      <td>24.1 DHS241-001-0020-I</td>\n",
       "      <td>['11540735']</td>\n",
       "      <td>0.324556</td>\n",
       "    </tr>\n",
       "    <tr>\n",
       "      <th>4</th>\n",
       "      <td>24.1 DHS241-001-0020-I</td>\n",
       "      <td>['11540751']</td>\n",
       "      <td>0.206094</td>\n",
       "    </tr>\n",
       "    <tr>\n",
       "      <th>...</th>\n",
       "      <td>...</td>\n",
       "      <td>...</td>\n",
       "      <td>...</td>\n",
       "    </tr>\n",
       "    <tr>\n",
       "      <th>188060452</th>\n",
       "      <td>563</td>\n",
       "      <td>['11710662']</td>\n",
       "      <td>0.049524</td>\n",
       "    </tr>\n",
       "    <tr>\n",
       "      <th>188060453</th>\n",
       "      <td>563</td>\n",
       "      <td>['11710679']</td>\n",
       "      <td>0.107258</td>\n",
       "    </tr>\n",
       "    <tr>\n",
       "      <th>188060454</th>\n",
       "      <td>563</td>\n",
       "      <td>['11710748']</td>\n",
       "      <td>0.001483</td>\n",
       "    </tr>\n",
       "    <tr>\n",
       "      <th>188060455</th>\n",
       "      <td>563</td>\n",
       "      <td>['11710764']</td>\n",
       "      <td>-0.019910</td>\n",
       "    </tr>\n",
       "    <tr>\n",
       "      <th>188060456</th>\n",
       "      <td>563</td>\n",
       "      <td>['11710768']</td>\n",
       "      <td>0.001164</td>\n",
       "    </tr>\n",
       "  </tbody>\n",
       "</table>\n",
       "<p>188060457 rows × 3 columns</p>\n",
       "</div>"
      ],
      "text/plain": [
       "                         award_id     patent_id  similarity_score\n",
       "0          24.1 DHS241-001-0020-I  ['D0974097']          0.000106\n",
       "1          24.1 DHS241-001-0020-I  ['11540723']          0.203773\n",
       "2          24.1 DHS241-001-0020-I  ['11540730']          0.325858\n",
       "3          24.1 DHS241-001-0020-I  ['11540735']          0.324556\n",
       "4          24.1 DHS241-001-0020-I  ['11540751']          0.206094\n",
       "...                           ...           ...               ...\n",
       "188060452                     563  ['11710662']          0.049524\n",
       "188060453                     563  ['11710679']          0.107258\n",
       "188060454                     563  ['11710748']          0.001483\n",
       "188060455                     563  ['11710764']         -0.019910\n",
       "188060456                     563  ['11710768']          0.001164\n",
       "\n",
       "[188060457 rows x 3 columns]"
      ]
     },
     "execution_count": 445,
     "metadata": {},
     "output_type": "execute_result"
    }
   ],
   "source": [
    "# Example similarity matrix (num_awards x num_patents)\n",
    "# Replace this with your actual numpy array\n",
    "similarity_matrix = sbir_patent_scores  # 100 SBIR Awards, 200 Patents\n",
    "\n",
    "# Dummy award IDs and patent IDs (replace with actual IDs)\n",
    "sbir_award_ids = sbir_df_filtered['Agency Tracking Number']\n",
    "patent_ids = patent_df_filtered['publication_doc_number']\n",
    "\n",
    "# Convert to a DataFrame\n",
    "similarity_data = []\n",
    "for i, award_id in enumerate(sbir_award_ids):\n",
    "    for j, patent_id in enumerate(patent_ids):\n",
    "        similarity_data.append([award_id, patent_id, similarity_matrix[i, j]])\n",
    "\n",
    "df = pd.DataFrame(similarity_data, columns=[\"award_id\", \"patent_id\", \"similarity_score\"])\n",
    "\n",
    "# Save as CSV\n",
    "# df.to_csv(\"/mnt/data/similarity_scores.csv\", index=False)\n",
    "df"
   ]
  },
  {
   "cell_type": "code",
   "execution_count": 458,
   "id": "50ced957-8500-4853-81c9-6b0d1f2ec0be",
   "metadata": {},
   "outputs": [
    {
     "data": {
      "text/html": [
       "<div>\n",
       "<style scoped>\n",
       "    .dataframe tbody tr th:only-of-type {\n",
       "        vertical-align: middle;\n",
       "    }\n",
       "\n",
       "    .dataframe tbody tr th {\n",
       "        vertical-align: top;\n",
       "    }\n",
       "\n",
       "    .dataframe thead th {\n",
       "        text-align: right;\n",
       "    }\n",
       "</style>\n",
       "<table border=\"1\" class=\"dataframe\">\n",
       "  <thead>\n",
       "    <tr style=\"text-align: right;\">\n",
       "      <th></th>\n",
       "      <th>award_id</th>\n",
       "      <th>patent_id</th>\n",
       "      <th>similarity_score</th>\n",
       "    </tr>\n",
       "  </thead>\n",
       "  <tbody>\n",
       "    <tr>\n",
       "      <th>258465</th>\n",
       "      <td>N231-031-0402</td>\n",
       "      <td>['11628917']</td>\n",
       "      <td>0.609919</td>\n",
       "    </tr>\n",
       "    <tr>\n",
       "      <th>260672</th>\n",
       "      <td>N231-031-0402</td>\n",
       "      <td>['D0987566']</td>\n",
       "      <td>0.604869</td>\n",
       "    </tr>\n",
       "    <tr>\n",
       "      <th>543721</th>\n",
       "      <td>FX235-CSO1-1100</td>\n",
       "      <td>['11604368']</td>\n",
       "      <td>0.603638</td>\n",
       "    </tr>\n",
       "    <tr>\n",
       "      <th>544826</th>\n",
       "      <td>FX235-CSO1-1100</td>\n",
       "      <td>['11619871']</td>\n",
       "      <td>0.612004</td>\n",
       "    </tr>\n",
       "    <tr>\n",
       "      <th>545192</th>\n",
       "      <td>FX235-CSO1-1100</td>\n",
       "      <td>['11624967']</td>\n",
       "      <td>0.607997</td>\n",
       "    </tr>\n",
       "    <tr>\n",
       "      <th>...</th>\n",
       "      <td>...</td>\n",
       "      <td>...</td>\n",
       "      <td>...</td>\n",
       "    </tr>\n",
       "    <tr>\n",
       "      <th>181838644</th>\n",
       "      <td>NASA376</td>\n",
       "      <td>['11708045']</td>\n",
       "      <td>0.670646</td>\n",
       "    </tr>\n",
       "    <tr>\n",
       "      <th>183351497</th>\n",
       "      <td>N981-0054</td>\n",
       "      <td>['11673353']</td>\n",
       "      <td>0.625351</td>\n",
       "    </tr>\n",
       "    <tr>\n",
       "      <th>183351498</th>\n",
       "      <td>N981-0054</td>\n",
       "      <td>['11673353']</td>\n",
       "      <td>0.625351</td>\n",
       "    </tr>\n",
       "    <tr>\n",
       "      <th>187859850</th>\n",
       "      <td>21072</td>\n",
       "      <td>['11630223']</td>\n",
       "      <td>0.633167</td>\n",
       "    </tr>\n",
       "    <tr>\n",
       "      <th>188007365</th>\n",
       "      <td>7023</td>\n",
       "      <td>['11606002']</td>\n",
       "      <td>0.647416</td>\n",
       "    </tr>\n",
       "  </tbody>\n",
       "</table>\n",
       "<p>976 rows × 3 columns</p>\n",
       "</div>"
      ],
      "text/plain": [
       "                  award_id     patent_id  similarity_score\n",
       "258465       N231-031-0402  ['11628917']          0.609919\n",
       "260672       N231-031-0402  ['D0987566']          0.604869\n",
       "543721     FX235-CSO1-1100  ['11604368']          0.603638\n",
       "544826     FX235-CSO1-1100  ['11619871']          0.612004\n",
       "545192     FX235-CSO1-1100  ['11624967']          0.607997\n",
       "...                    ...           ...               ...\n",
       "181838644          NASA376  ['11708045']          0.670646\n",
       "183351497        N981-0054  ['11673353']          0.625351\n",
       "183351498        N981-0054  ['11673353']          0.625351\n",
       "187859850            21072  ['11630223']          0.633167\n",
       "188007365             7023  ['11606002']          0.647416\n",
       "\n",
       "[976 rows x 3 columns]"
      ]
     },
     "execution_count": 458,
     "metadata": {},
     "output_type": "execute_result"
    }
   ],
   "source": [
    "# How many scores above 0.6?\n",
    "df[df['similarity_score']>0.6].to_csv('similarity_sbir_patent.csv',index=False)"
   ]
  },
  {
   "cell_type": "markdown",
   "id": "b4d933a1-18a5-48fe-909f-f3af392e6a3a",
   "metadata": {},
   "source": [
    "### Patent data chunking to help Neo4j Upload"
   ]
  },
  {
   "cell_type": "code",
   "execution_count": 88,
   "id": "81c24f5a-a583-4ca5-96cf-1a85d4726d01",
   "metadata": {},
   "outputs": [
    {
     "name": "stdout",
     "output_type": "stream",
     "text": [
      "Splitting complete!\n"
     ]
    }
   ],
   "source": [
    "chunk_size = 10000  # Number of rows per file\n",
    "\n",
    "# Split the dataframe and save each chunk as a CSV file\n",
    "for i, chunk in enumerate(range(0, len(patent_df), chunk_size)):\n",
    "    chunk_df = patent_df.iloc[chunk:chunk + chunk_size]\n",
    "    chunk_df.to_csv(f'patent_chunk_{i+1}.csv', index=False)\n",
    "    \n",
    "print(\"Splitting complete!\")\n"
   ]
  }
 ],
 "metadata": {
  "kernelspec": {
   "display_name": "Python 3 (ipykernel)",
   "language": "python",
   "name": "python3"
  },
  "language_info": {
   "codemirror_mode": {
    "name": "ipython",
    "version": 3
   },
   "file_extension": ".py",
   "mimetype": "text/x-python",
   "name": "python",
   "nbconvert_exporter": "python",
   "pygments_lexer": "ipython3",
   "version": "3.12.7"
  }
 },
 "nbformat": 4,
 "nbformat_minor": 5
}
