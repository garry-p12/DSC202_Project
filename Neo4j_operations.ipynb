{
 "cells": [
  {
   "cell_type": "markdown",
   "id": "e40fa6be",
   "metadata": {},
   "source": [
    "### Neo4j drivers for python\n",
    "\n",
    "https://neo4j.com/docs/api/python-driver/5.0/api.html#api-documentation"
   ]
  },
  {
   "cell_type": "code",
   "execution_count": 4,
   "id": "88ef5dd7",
   "metadata": {},
   "outputs": [
    {
     "name": "stdout",
     "output_type": "stream",
     "text": [
      "Collecting neo4j\n",
      "  Downloading neo4j-5.28.1-py3-none-any.whl.metadata (5.9 kB)\n",
      "Requirement already satisfied: pytz in /opt/anaconda3/lib/python3.12/site-packages (from neo4j) (2024.1)\n",
      "Downloading neo4j-5.28.1-py3-none-any.whl (312 kB)\n",
      "Installing collected packages: neo4j\n",
      "Successfully installed neo4j-5.28.1\n"
     ]
    }
   ],
   "source": [
    "!pip install neo4j"
   ]
  },
  {
   "cell_type": "code",
   "execution_count": 6,
   "id": "7ea7663f",
   "metadata": {},
   "outputs": [
    {
     "name": "stdout",
     "output_type": "stream",
     "text": [
      "Collecting graphdatascience\n",
      "  Downloading graphdatascience-1.14-py3-none-any.whl.metadata (7.8 kB)\n",
      "Collecting multimethod<3.0,>=1.0 (from graphdatascience)\n",
      "  Downloading multimethod-2.0-py3-none-any.whl.metadata (9.2 kB)\n",
      "Requirement already satisfied: neo4j<6.0,>=4.4.12 in /opt/anaconda3/lib/python3.12/site-packages (from graphdatascience) (5.28.1)\n",
      "Requirement already satisfied: numpy<2.3 in /opt/anaconda3/lib/python3.12/site-packages (from graphdatascience) (1.26.4)\n",
      "Requirement already satisfied: pandas<3.0,>=1.0 in /opt/anaconda3/lib/python3.12/site-packages (from graphdatascience) (2.2.2)\n",
      "Requirement already satisfied: pyarrow<20.0,>=16.0 in /opt/anaconda3/lib/python3.12/site-packages (from graphdatascience) (16.1.0)\n",
      "Requirement already satisfied: textdistance<5.0,>=4.0 in /opt/anaconda3/lib/python3.12/site-packages (from graphdatascience) (4.2.1)\n",
      "Requirement already satisfied: tqdm<5.0,>=4.0 in /opt/anaconda3/lib/python3.12/site-packages (from graphdatascience) (4.66.5)\n",
      "Requirement already satisfied: typing-extensions<5.0,>=4.0 in /opt/anaconda3/lib/python3.12/site-packages (from graphdatascience) (4.11.0)\n",
      "Requirement already satisfied: requests in /opt/anaconda3/lib/python3.12/site-packages (from graphdatascience) (2.32.3)\n",
      "Collecting tenacity>=9.0 (from graphdatascience)\n",
      "  Downloading tenacity-9.0.0-py3-none-any.whl.metadata (1.2 kB)\n",
      "Requirement already satisfied: pytz in /opt/anaconda3/lib/python3.12/site-packages (from neo4j<6.0,>=4.4.12->graphdatascience) (2024.1)\n",
      "Requirement already satisfied: python-dateutil>=2.8.2 in /opt/anaconda3/lib/python3.12/site-packages (from pandas<3.0,>=1.0->graphdatascience) (2.9.0.post0)\n",
      "Requirement already satisfied: tzdata>=2022.7 in /opt/anaconda3/lib/python3.12/site-packages (from pandas<3.0,>=1.0->graphdatascience) (2023.3)\n",
      "Requirement already satisfied: charset-normalizer<4,>=2 in /opt/anaconda3/lib/python3.12/site-packages (from requests->graphdatascience) (3.3.2)\n",
      "Requirement already satisfied: idna<4,>=2.5 in /opt/anaconda3/lib/python3.12/site-packages (from requests->graphdatascience) (3.7)\n",
      "Requirement already satisfied: urllib3<3,>=1.21.1 in /opt/anaconda3/lib/python3.12/site-packages (from requests->graphdatascience) (2.2.3)\n",
      "Requirement already satisfied: certifi>=2017.4.17 in /opt/anaconda3/lib/python3.12/site-packages (from requests->graphdatascience) (2024.12.14)\n",
      "Requirement already satisfied: six>=1.5 in /opt/anaconda3/lib/python3.12/site-packages (from python-dateutil>=2.8.2->pandas<3.0,>=1.0->graphdatascience) (1.16.0)\n",
      "Downloading graphdatascience-1.14-py3-none-any.whl (1.7 MB)\n",
      "\u001b[2K   \u001b[90m━━━━━━━━━━━━━━━━━━━━━━━━━━━━━━━━━━━━━━━━\u001b[0m \u001b[32m1.7/1.7 MB\u001b[0m \u001b[31m16.1 MB/s\u001b[0m eta \u001b[36m0:00:00\u001b[0m\n",
      "\u001b[?25hDownloading multimethod-2.0-py3-none-any.whl (9.8 kB)\n",
      "Downloading tenacity-9.0.0-py3-none-any.whl (28 kB)\n",
      "Installing collected packages: tenacity, multimethod, graphdatascience\n",
      "  Attempting uninstall: tenacity\n",
      "    Found existing installation: tenacity 8.2.3\n",
      "    Uninstalling tenacity-8.2.3:\n",
      "      Successfully uninstalled tenacity-8.2.3\n",
      "\u001b[31mERROR: pip's dependency resolver does not currently take into account all the packages that are installed. This behaviour is the source of the following dependency conflicts.\n",
      "streamlit 1.37.1 requires tenacity<9,>=8.1.0, but you have tenacity 9.0.0 which is incompatible.\u001b[0m\u001b[31m\n",
      "\u001b[0mSuccessfully installed graphdatascience-1.14 multimethod-2.0 tenacity-9.0.0\n"
     ]
    }
   ],
   "source": [
    "!pip install graphdatascience"
   ]
  },
  {
   "cell_type": "code",
   "execution_count": 1,
   "id": "29abf666",
   "metadata": {},
   "outputs": [],
   "source": [
    "from neo4j import GraphDatabase"
   ]
  },
  {
   "cell_type": "markdown",
   "id": "f1789e9f",
   "metadata": {},
   "source": [
    "### Connecting to the database"
   ]
  },
  {
   "cell_type": "code",
   "execution_count": 4,
   "id": "795a9f15",
   "metadata": {},
   "outputs": [],
   "source": [
    "uri = \"neo4j://localhost:7687\"\n",
    "driver = GraphDatabase.driver(uri, auth=(\"neo4j\", \"password\"))\n",
    "session =  driver.session()"
   ]
  },
  {
   "cell_type": "markdown",
   "id": "636b3216",
   "metadata": {},
   "source": [
    "### Cypher operations"
   ]
  },
  {
   "cell_type": "code",
   "execution_count": 8,
   "id": "90a77ae6",
   "metadata": {},
   "outputs": [],
   "source": [
    "def show_result(query):\n",
    "    result = session.run(query)\n",
    "    print(result.data())"
   ]
  },
  {
   "cell_type": "code",
   "execution_count": 28,
   "id": "0b3572bd-8cec-4a5d-90a5-3ec54848b4ac",
   "metadata": {},
   "outputs": [],
   "source": [
    "def import_patent_query(filename):\n",
    "    query_text = \"\"\"\n",
    "                        LOAD CSV WITH HEADERS FROM 'file:///\"\"\"+filename+\"\"\"' AS row\n",
    "                        WITH row,\n",
    "                             trim(replace(replace(row.publication_doc_number, '[', ''), ']', '')) AS pub_doc_number,\n",
    "                             trim(replace(replace(row.invention_title, '[', ''), ']', '')) AS title,\n",
    "                             trim(replace(replace(row.applicant_organization, '[', ''), ']', '')) AS applicant,\n",
    "                             trim(replace(replace(row.publication_kind, '[', ''), ']', '')) AS pub_kind,\n",
    "                             COALESCE(trim(replace(replace(row.inventor_name, '[', ''), ']', '')), '') AS inventors,\n",
    "                             COALESCE(trim(replace(replace(row.inventor_location, '[', ''), ']', '')), '') AS inventor_locs\n",
    "                        \n",
    "                        // Create Patent node\n",
    "                        MERGE (p:Patent {id: trim(replace(replace(row.publication_doc_number, '[', ''), ']', ''))}) \n",
    "                        SET p.title = row.invention_title, p.date = row.publication_date\n",
    "                        \n",
    "                        // Create Organization and relationship\n",
    "                        MERGE (a:Organization {name: applicant})\n",
    "                        MERGE (a)-[:FILED]->(p)\n",
    "                        \n",
    "                        // Create PatentKind node and link it to the patent\n",
    "                        MERGE (k:PatentKind {type: pub_kind})\n",
    "                        MERGE (p)-[:HAS_KIND]->(k)\n",
    "                        \n",
    "                        WITH p, split(replace(replace(row.inventor, '[', ''), ']', ''), ',') AS inventors\n",
    "                        UNWIND inventors AS inventorName\n",
    "                        WITH p, trim(inventorName) AS inventorName\n",
    "                        WHERE inventorName <> '' AND inventorName <> 'Jr.' AND inventorName <> 'III'\n",
    "                        \n",
    "                        MERGE (i:Inventor {name: trim(inventorName)})\n",
    "                        MERGE (i)-[:INVENTED]->(p);\n",
    "                        \"\"\"\n",
    "    return query_text\n",
    "\n",
    "def import_sbir_query(filename):\n",
    "    query_text = \"\"\"\n",
    "                    LOAD CSV WITH HEADERS FROM 'file:///\"\"\"+filename+\"\"\"' AS row\n",
    "                    WITH row,\n",
    "                         trim(replace(replace(row.`Company`, '[', ''), ']', '')) AS company,\n",
    "                         trim(replace(replace(row.`Award Title`, '[', ''), ']', '')) AS award_title,\n",
    "                         trim(replace(replace(row.`Agency Tracking Number`, '[', ''), ']', '')) AS tracking_number,\n",
    "                         trim(replace(replace(row.`PI Name`, '[', ''), ']', '')) AS pi_name\n",
    "                    \n",
    "                    // Merge Company with existing Organization nodes\n",
    "                    MERGE (org:Organization {name: company})\n",
    "                    \n",
    "                    // Merge PI Name with existing Inventor nodes\n",
    "                    MERGE (pi:Inventor {name: pi_name})\n",
    "                    \n",
    "                    // Create Award node\n",
    "                    MERGE (award:SBIR_Award {tracking_number: tracking_number})\n",
    "                    SET award.title = award_title\n",
    "                    \n",
    "                    // Link Company to Award\n",
    "                    MERGE (org)-[:RECEIVED_AWARD]->(award)\n",
    "                    \n",
    "                    // Link PI Name to Award\n",
    "                    MERGE (pi)-[:PI_FOR]->(award);\n",
    "                    \"\"\"\n",
    "    return query_text\n"
   ]
  },
  {
   "cell_type": "code",
   "execution_count": 12,
   "id": "2755d7f3-5f45-43f0-a813-d9ae11b7d372",
   "metadata": {},
   "outputs": [],
   "source": [
    "wipe_query = \"MATCH (n) DETACH DELETE n;\"\n",
    "\n",
    "remove_na_org = \"\"\"\n",
    "                MATCH (a:Organization {name: \"N/A\"})  \n",
    "                DETACH DELETE a;\n",
    "                \"\"\""
   ]
  },
  {
   "cell_type": "markdown",
   "id": "712e561a-b1d3-4603-9abe-75d4d49dcba9",
   "metadata": {},
   "source": [
    "## Patent data chunk upload, full dataset causes crashes"
   ]
  },
  {
   "cell_type": "code",
   "execution_count": null,
   "id": "58db6911-d7f3-455d-a2c3-c488f7494430",
   "metadata": {},
   "outputs": [
    {
     "name": "stdout",
     "output_type": "stream",
     "text": [
      "Old data wiped\n",
      "Finished importing patent_chunk_1.csv\n",
      "Finished importing patent_chunk_2.csv\n",
      "Finished importing patent_chunk_3.csv\n",
      "Finished importing patent_chunk_4.csv\n",
      "Finished importing patent_chunk_5.csv\n",
      "Finished importing patent_chunk_6.csv\n",
      "Finished importing patent_chunk_7.csv\n",
      "Finished importing patent_chunk_8.csv\n",
      "Finished importing patent_chunk_9.csv\n",
      "Finished importing patent_chunk_10.csv\n",
      "Finished importing patent_chunk_11.csv\n",
      "Finished importing patent_chunk_12.csv\n",
      "Finished importing patent_chunk_13.csv\n",
      "Finished importing patent_chunk_14.csv\n",
      "Finished importing patent_chunk_15.csv\n",
      "Finished importing patent_chunk_16.csv\n",
      "Finished importing patent_chunk_17.csv\n"
     ]
    }
   ],
   "source": [
    "# session.run(wipe_query)\n",
    "# print('Old data wiped')\n",
    "# for i in range(74):\n",
    "#     filename = f\"patent_chunk_{i+1}.csv\"\n",
    "#     session.run(import_patent_query(filename))\n",
    "#     print(\"Finished importing \"+filename)\n",
    "# session.run(remove_na_org)\n",
    "# print('Data Import Complete')"
   ]
  },
  {
   "cell_type": "markdown",
   "id": "bc6def17-f8d9-43e5-b9ab-c6980b53e3ad",
   "metadata": {},
   "source": [
    "## Import and merge SBIR data"
   ]
  },
  {
   "cell_type": "code",
   "execution_count": 63,
   "id": "40bc1960-4039-472f-946c-bce7d5db6563",
   "metadata": {},
   "outputs": [
    {
     "data": {
      "text/plain": [
       "<neo4j._sync.work.result.Result at 0x30d3675f0>"
      ]
     },
     "execution_count": 63,
     "metadata": {},
     "output_type": "execute_result"
    }
   ],
   "source": [
    "session.run(import_sbir_query('sbir_filtered.csv'))"
   ]
  },
  {
   "cell_type": "code",
   "execution_count": 32,
   "id": "105d5401-cc03-4311-9bd4-280f7eb77908",
   "metadata": {},
   "outputs": [
    {
     "name": "stdout",
     "output_type": "stream",
     "text": [
      "[{'Label': ['Inventor'], 'Count': 427630}, {'Label': ['Patent'], 'Count': 192307}, {'Label': ['Organization'], 'Count': 45340}, {'Label': ['SBIR_Award'], 'Count': 97}, {'Label': ['PatentKind'], 'Count': 6}]\n"
     ]
    }
   ],
   "source": [
    "show_result(\"\"\"MATCH (n) RETURN labels(n) AS Label, count(n) AS Count;\"\"\")"
   ]
  },
  {
   "cell_type": "code",
   "execution_count": 73,
   "id": "958e5a8f-fb2a-4c80-bd7e-43adf19dee14",
   "metadata": {},
   "outputs": [
    {
     "name": "stdout",
     "output_type": "stream",
     "text": [
      "[{'Organization': \"'NIKE, Inc.]']\", 'PatentNumber': \"'D0974016']\"}, {'Organization': \"'NIKE, Inc.]']\", 'PatentNumber': \"'11541624']\"}, {'Organization': \"'HUBLOT SA, Genéve]']\", 'PatentNumber': \"'D0974187']\"}, {'Organization': \"'MITSUBISHI HEAVY INDUSTRIES MACHINERY SYSTEMS, LTD.]']\", 'PatentNumber': \"'11541565']\"}, {'Organization': \"'Oliver Packaging and Equipment Company]']\", 'PatentNumber': \"'11541566']\"}, {'Organization': \"'N/A']\", 'PatentNumber': \"'11541567']\"}, {'Organization': \"'N/A']\", 'PatentNumber': \"'D0974189']\"}, {'Organization': \"'N/A']\", 'PatentNumber': \"'11541616']\"}, {'Organization': \"'N/A']\", 'PatentNumber': \"'11541631']\"}, {'Organization': \"'Hewlett-Packard Development Company, L.P.]']\", 'PatentNumber': \"'11541568']\"}]\n"
     ]
    }
   ],
   "source": [
    "org_query = \"\"\"MATCH (o:Organization)-[:FILED]->(p:Patent) \n",
    "RETURN o.name AS Organization, p.doc_number AS PatentNumber \n",
    "LIMIT 10;\"\"\"\n",
    "\n",
    "show_result(org_query)"
   ]
  },
  {
   "cell_type": "markdown",
   "id": "248b9b5b-6655-4725-a622-fc27b6571819",
   "metadata": {},
   "source": [
    "## Queries used in Neo4j Browser for visualizations"
   ]
  },
  {
   "cell_type": "code",
   "execution_count": null,
   "id": "211389b3-0cce-4aaa-8385-e63bab00b29c",
   "metadata": {},
   "outputs": [],
   "source": [
    "# Query to show important elements of entire network\n",
    "\"\"\"\n",
    "MATCH (n1:SBIR_Award) - [r1] - (n2:Inventor) - [r2] - (n3:Patent) - [r3] - (n4:Organization)\n",
    "RETURN n1,r1,n2,r2,n3,r3,n4\n",
    "\"\"\"\n",
    "# Query for organization network\n",
    "\"\"\"\n",
    "MATCH (n1:SBIR_Award) - [r1] - (n2:Inventor) - [r2] - (n3:Patent) - [r3] - (n4:Organization{name:\"'GOOGLE LLC'\"})\n",
    "RETURN n1,r1,n2,r2,n3,r3,n4\n",
    "\"\"\"\n",
    "# Query for individual network\n",
    "\"\"\"\n",
    "MATCH (n1:SBIR_Award) - [r1] - (n2:Inventor{name: \"Michael Jones\"}) - [r2] - (n3:Patent) - [r3] - (n4:Organization)\n",
    "RETURN n1,r1,n2,r2,n3,r3,n4\n",
    "\"\"\""
   ]
  },
  {
   "cell_type": "markdown",
   "id": "04617b99",
   "metadata": {},
   "source": [
    "### Community detection attempt (failure)\n",
    "\n",
    "https://neo4j.com/docs/graph-data-science/current/algorithms/louvain/"
   ]
  },
  {
   "cell_type": "code",
   "execution_count": null,
   "id": "6de1e9cb",
   "metadata": {},
   "outputs": [],
   "source": [
    "graph = \"communities\"\n",
    "delete_graph_if_exists(graph)\n",
    "g, project_result = gds.graph.project(\"communities\", [\"Inventor\", \"Patent\", \"SBIR_Award\"], {\"INVENTED\":{'orientation':'UNDIRECTED'}})"
   ]
  },
  {
   "cell_type": "code",
   "execution_count": null,
   "id": "61812405",
   "metadata": {},
   "outputs": [],
   "source": [
    "df = gds.louvain.write(g, writeProperty='louvainCommunityId')"
   ]
  },
  {
   "cell_type": "code",
   "execution_count": null,
   "id": "ea704442",
   "metadata": {},
   "outputs": [],
   "source": [
    "#For each cluster (community), display the list of people belonging to that cluster\n",
    "gds.run_cypher(\n",
    "\"\"\"\n",
    "MATCH (p:Person)\n",
    "WITH p\n",
    "RETURN p.louvainCommunityId, collect(p.name)\n",
    "\"\"\")"
   ]
  },
  {
   "cell_type": "code",
   "execution_count": null,
   "id": "6a9ab2f2-5b36-4250-8a6b-a79374caf93b",
   "metadata": {},
   "outputs": [],
   "source": [
    "find_large_comm_id = \"\"\"\n",
    "                    CALL gds.wcc.stream('subgraph')\n",
    "                    YIELD nodeId, componentId\n",
    "                    WITH componentId, count(nodeId) AS componentSize\n",
    "                    ORDER BY componentSize DESC\n",
    "                    LIMIT 1\n",
    "                    RETURN componentId;\n",
    "                    \"\"\""
   ]
  },
  {
   "cell_type": "code",
   "execution_count": null,
   "id": "fa001f3a-570d-437d-b018-4cc54b338412",
   "metadata": {},
   "outputs": [],
   "source": [
    "session.run(find_large_comm_id)"
   ]
  }
 ],
 "metadata": {
  "kernelspec": {
   "display_name": "Python 3 (ipykernel)",
   "language": "python",
   "name": "python3"
  },
  "language_info": {
   "codemirror_mode": {
    "name": "ipython",
    "version": 3
   },
   "file_extension": ".py",
   "mimetype": "text/x-python",
   "name": "python",
   "nbconvert_exporter": "python",
   "pygments_lexer": "ipython3",
   "version": "3.12.7"
  }
 },
 "nbformat": 4,
 "nbformat_minor": 5
}
